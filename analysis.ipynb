{
 "cells": [
  {
   "cell_type": "code",
   "execution_count": 6,
   "id": "8554e287",
   "metadata": {},
   "outputs": [],
   "source": [
    "import pandas as pd\n",
    "import random\n",
    "from datetime import datetime, timedelta"
   ]
  },
  {
   "cell_type": "code",
   "execution_count": 7,
   "id": "4875fa7e",
   "metadata": {},
   "outputs": [],
   "source": [
    "# Paramètres\n",
    "random.seed(42)  # Pour la reproductibilité\n",
    "\n",
    "products = ['Tomate', 'Carotte', 'Banane', 'Pomme', 'Poivron', 'Courgette', 'Ananas', 'Lait', 'Letchi']\n",
    "types_movement = ['import', 'export', 'adjustment', 'return', 'loss']\n",
    "n = 10000  # nombre de lignes\n",
    "\n",
    "# Saison de haute disponibilité par produit (mois: 1=janvier, ..., 12=décembre)\n",
    "product_seasons = {\n",
    "    'Letchi': [11, 12],\n",
    "    'Tomate': [9, 10, 11, 12, 1, 2],  # exemple\n",
    "    'Banane': list(range(1, 13)),      # toute l'année\n",
    "    'Carotte': [5, 6, 7, 8, 9],\n",
    "    'Pomme': [3, 4, 5, 6],\n",
    "    'Poivron': [10, 11, 12, 1, 2],\n",
    "    'Courgette': [2, 3, 4, 5],\n",
    "    'Ananas': [12, 1, 2],\n",
    "    'Lait': list(range(1, 13)),        # toute l'année\n",
    "}"
   ]
  },
  {
   "cell_type": "code",
   "execution_count": 8,
   "metadata": {},
   "outputs": [],
   "source": [
    "# Génération des données\n",
    "data = []\n",
    "start_date = datetime.today() - timedelta(days=3650)\n",
    "\n",
    "for _ in range(n):\n",
    "    date = start_date + timedelta(days=random.randint(0, 3650))\n",
    "    product = random.choice(products)\n",
    "    month = date.month\n",
    "\n",
    "    # Poids dynamiques selon la saison\n",
    "    if month in product_seasons.get(product, []):\n",
    "        # Saison haute : plus d'import, un peu plus d'export\n",
    "        weights = [random.uniform(0.45, 0.6), random.uniform(0.25, 0.35), random.uniform(0.04, 0.08), random.uniform(0.02, 0.06), random.uniform(0.02, 0.06)]\n",
    "    else:\n",
    "        # Hors saison : plus d'export, moins d'import\n",
    "        weights = [random.uniform(0.15, 0.3), random.uniform(0.5, 0.65), random.uniform(0.04, 0.08), random.uniform(0.02, 0.06), random.uniform(0.02, 0.06)]\n",
    "    # Normalisation des poids\n",
    "    total = sum(weights)\n",
    "    weights = [w / total for w in weights]\n",
    "\n",
    "    movement = random.choices(\n",
    "        types_movement,\n",
    "        weights=weights,\n",
    "        k=1\n",
    "    )[0]\n",
    "\n",
    "    # Saison haute: plus de chance d'import/export et quantités plus élevées\n",
    "    if month in product_seasons.get(product, []):\n",
    "        if movement == 'import':\n",
    "            quantity = random.randint(200, 700)\n",
    "        elif movement == 'export':\n",
    "            quantity = -random.randint(200, 700)\n",
    "        else:\n",
    "            quantity = random.randint(-30, 70)\n",
    "    else:\n",
    "        if movement == 'import':\n",
    "            quantity = random.randint(1, 200)\n",
    "        elif movement == 'export':\n",
    "            quantity = -random.randint(1, 200)\n",
    "        else:\n",
    "            quantity = random.randint(-20, 40)\n",
    "    \n",
    "    data.append([date.strftime('%Y-%m-%d'), product, quantity, movement])"
   ]
  },
  {
   "cell_type": "code",
   "execution_count": 9,
   "id": "01cfc437",
   "metadata": {},
   "outputs": [],
   "source": [
    "# Création et export du DataFrame\n",
    "df = pd.DataFrame(data, columns=['date', 'product_name', 'quantity', 'type_movement'])\n",
    "df = df.sort_values(['date'], ascending=[True])\n",
    "df.to_csv('mouvements_stock_fictifs.csv', index=False)"
   ]
  }
 ],
 "metadata": {
  "kernelspec": {
   "display_name": "base",
   "language": "python",
   "name": "python3"
  },
  "language_info": {
   "codemirror_mode": {
    "name": "ipython",
    "version": 3
   },
   "file_extension": ".py",
   "mimetype": "text/x-python",
   "name": "python",
   "nbconvert_exporter": "python",
   "pygments_lexer": "ipython3",
   "version": "3.12.7"
  }
 },
 "nbformat": 4,
 "nbformat_minor": 5
}
