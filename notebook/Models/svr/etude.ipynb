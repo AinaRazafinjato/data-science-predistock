{
 "cells": [
  {
   "cell_type": "markdown",
   "id": "9e6e901a",
   "metadata": {},
   "source": [
    "📁 Ce dossier contient les ressources de la formation sur le Support Vector Regression (SVR) en trading algorithmique avec Python et Machine Learning.  \n",
    "🗂️ Chemin d'accès :  \n",
    "\"D:\\Projets\\Videos & Formations\\Trading\\Livres et Formations\\Trading algorithmique avec Python Machine learning\\8 - Support Vecteur Machine SVM\"\n",
    "\n",
    "🔍 Nous allons utiliser ce dossier pour explorer et appliquer les concepts du SVR dans le cadre de l'analyse et de la prédiction des marchés financiers. 📈"
   ]
  },
  {
   "cell_type": "markdown",
   "id": "f2b1f16d",
   "metadata": {},
   "source": [
    "## Comparaison de SVR et la regression linéaire\n",
    "### Regression lineaire \n",
    "Minimiser la distance entre les points et la ligne de regression.\n",
    "\n",
    "### Support Vector Regression (SVR)\n",
    "Minimiser la distance entre les points et la ligne de regression, mais en tenant compte des marges.\n",
    "Maximiser le nombre de points qui sont à l'intérieur de la marge."
   ]
  },
  {
   "cell_type": "markdown",
   "id": "eb07b063",
   "metadata": {},
   "source": []
  }
 ],
 "metadata": {
  "language_info": {
   "name": "python"
  }
 },
 "nbformat": 4,
 "nbformat_minor": 5
}
