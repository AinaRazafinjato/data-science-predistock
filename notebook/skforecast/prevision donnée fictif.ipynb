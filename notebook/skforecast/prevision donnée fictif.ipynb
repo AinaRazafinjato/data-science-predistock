{
 "cells": [
  {
   "cell_type": "markdown",
   "metadata": {},
   "source": [
    "**Importation de modele**"
   ]
  },
  {
   "cell_type": "code",
   "execution_count": 1,
   "metadata": {},
   "outputs": [],
   "source": [
    "import pandas as pd\n",
    "import numpy as np\n",
    "import matplotlib.pyplot as plt\n",
    "from sklearn.linear_model import Ridge,LinearRegression\n",
    "from sklearn.metrics import mean_squared_error, mean_absolute_error, mean_absolute_percentage_error\n",
    "from skforecast.preprocessing import RollingFeatures\n",
    "from sklearn.preprocessing import StandardScaler\n",
    "from skforecast.direct import ForecasterDirect\n",
    "from skforecast.recursive import ForecasterRecursive\n",
    "from sklearn.ensemble import RandomForestRegressor\n",
    "from lightgbm import LGBMRegressor\n",
    "import xgboost as xgb\n",
    "from skforecast.plot import set_dark_theme\n"
   ]
  },
  {
   "cell_type": "markdown",
   "metadata": {},
   "source": [
    "**Les constante**"
   ]
  },
  {
   "cell_type": "code",
   "execution_count": 2,
   "metadata": {},
   "outputs": [],
   "source": [
    "TEST_SIZE = 24\n",
    "LAG_SIZE = 6\n",
    "WINDOW_SIZE = 4"
   ]
  },
  {
   "cell_type": "markdown",
   "metadata": {},
   "source": []
  },
  {
   "cell_type": "code",
   "execution_count": 3,
   "metadata": {},
   "outputs": [],
   "source": [
    "# Charger les données\n",
    "data = pd.read_csv(\"dataset/mouvements_stock_fictifs.csv\", delimiter=',', header=0, parse_dates=True, index_col=0)\n",
    "data = data.sort_index()\n",
    "data=data.sort_values(by=[\"product_name\", \"type_movement\"])\n"
   ]
  },
  {
   "cell_type": "code",
   "execution_count": 4,
   "metadata": {},
   "outputs": [
    {
     "data": {
      "application/vnd.microsoft.datawrangler.viewer.v0+json": {
       "columns": [
        {
         "name": "date",
         "rawType": "datetime64[ns]",
         "type": "datetime"
        },
        {
         "name": "product_name",
         "rawType": "object",
         "type": "string"
        },
        {
         "name": "quantity",
         "rawType": "int64",
         "type": "integer"
        },
        {
         "name": "type_movement",
         "rawType": "object",
         "type": "string"
        }
       ],
       "ref": "241161be-acde-42ff-b53b-86fa25e43dec",
       "rows": [
        [
         "2023-01-21 00:00:00",
         "Ananas",
         "48",
         "adjustment"
        ],
        [
         "2021-01-14 00:00:00",
         "Ananas",
         "-289",
         "export"
        ],
        [
         "2021-01-22 00:00:00",
         "Ananas",
         "-499",
         "export"
        ],
        [
         "2021-01-28 00:00:00",
         "Ananas",
         "-487",
         "export"
        ],
        [
         "2022-01-20 00:00:00",
         "Ananas",
         "-353",
         "export"
        ]
       ],
       "shape": {
        "columns": 3,
        "rows": 5
       }
      },
      "text/html": [
       "<div>\n",
       "<style scoped>\n",
       "    .dataframe tbody tr th:only-of-type {\n",
       "        vertical-align: middle;\n",
       "    }\n",
       "\n",
       "    .dataframe tbody tr th {\n",
       "        vertical-align: top;\n",
       "    }\n",
       "\n",
       "    .dataframe thead th {\n",
       "        text-align: right;\n",
       "    }\n",
       "</style>\n",
       "<table border=\"1\" class=\"dataframe\">\n",
       "  <thead>\n",
       "    <tr style=\"text-align: right;\">\n",
       "      <th></th>\n",
       "      <th>product_name</th>\n",
       "      <th>quantity</th>\n",
       "      <th>type_movement</th>\n",
       "    </tr>\n",
       "    <tr>\n",
       "      <th>date</th>\n",
       "      <th></th>\n",
       "      <th></th>\n",
       "      <th></th>\n",
       "    </tr>\n",
       "  </thead>\n",
       "  <tbody>\n",
       "    <tr>\n",
       "      <th>2023-01-21</th>\n",
       "      <td>Ananas</td>\n",
       "      <td>48</td>\n",
       "      <td>adjustment</td>\n",
       "    </tr>\n",
       "    <tr>\n",
       "      <th>2021-01-14</th>\n",
       "      <td>Ananas</td>\n",
       "      <td>-289</td>\n",
       "      <td>export</td>\n",
       "    </tr>\n",
       "    <tr>\n",
       "      <th>2021-01-22</th>\n",
       "      <td>Ananas</td>\n",
       "      <td>-499</td>\n",
       "      <td>export</td>\n",
       "    </tr>\n",
       "    <tr>\n",
       "      <th>2021-01-28</th>\n",
       "      <td>Ananas</td>\n",
       "      <td>-487</td>\n",
       "      <td>export</td>\n",
       "    </tr>\n",
       "    <tr>\n",
       "      <th>2022-01-20</th>\n",
       "      <td>Ananas</td>\n",
       "      <td>-353</td>\n",
       "      <td>export</td>\n",
       "    </tr>\n",
       "  </tbody>\n",
       "</table>\n",
       "</div>"
      ],
      "text/plain": [
       "           product_name  quantity type_movement\n",
       "date                                           \n",
       "2023-01-21       Ananas        48    adjustment\n",
       "2021-01-14       Ananas      -289        export\n",
       "2021-01-22       Ananas      -499        export\n",
       "2021-01-28       Ananas      -487        export\n",
       "2022-01-20       Ananas      -353        export"
      ]
     },
     "execution_count": 4,
     "metadata": {},
     "output_type": "execute_result"
    }
   ],
   "source": [
    "data.head()"
   ]
  },
  {
   "cell_type": "code",
   "execution_count": 5,
   "metadata": {},
   "outputs": [],
   "source": [
    "products = data['product_name'].unique()[:2]\n",
    "stores = data['type_movement'].unique()[:2]"
   ]
  },
  {
   "cell_type": "code",
   "execution_count": 8,
   "metadata": {},
   "outputs": [],
   "source": [
    "# Liste des modèles à comparer\n",
    "models = {\n",
    "    'XGBoost': xgb.XGBRegressor(objective='reg:squarederror', eta=0.4, n_estimators=100),\n",
    "    \"RegressionLineaire\": LinearRegression(),\n",
    "    # 'Ridge': Ridge(alpha=1.0),\n",
    "    'LightGBM': LGBMRegressor(n_estimators=100, learning_rate=0.2,verbosity=-1),\n",
    "    'RandomForrest':RandomForestRegressor(random_state=42,criterion=\"absolute_error\")\n",
    "}\n",
    "performance={\n",
    "    \"XGBoost\":{\n",
    "        \"rmse\": [],\n",
    "        \"mae\": [],\n",
    "        \"mape\": []\n",
    "    },\n",
    "    \"RegressionLineaire\":{\n",
    "        \"rmse\": [],\n",
    "        \"mae\": [],\n",
    "        \"mape\": []\n",
    "    },\n",
    "    \"LightGBM\":{\n",
    "        \"rmse\": [],\n",
    "        \"mae\": [],\n",
    "        \"mape\": []\n",
    "    },\n",
    "    \"RandomForrest\":{\n",
    "        \"rmse\": [],\n",
    "        \"mae\": [],\n",
    "        \"mape\": []\n",
    "    }\n",
    "}"
   ]
  },
  {
   "cell_type": "code",
   "execution_count": 12,
   "metadata": {},
   "outputs": [
    {
     "name": "stdout",
     "output_type": "stream",
     "text": [
      "Product 0/2\n",
      "(1, 4)\n",
      "Empty DataFrame\n",
      "Columns: [quantity, year, month, quarter]\n",
      "Index: []\n"
     ]
    },
    {
     "ename": "ValueError",
     "evalue": "Length of `y` must be greater than the maximum window size needed by the forecaster.\n    Length `y`: 0.\n    Max window size: 6.\n    Lags window size: 6.\n    Window features window size: 4.",
     "output_type": "error",
     "traceback": [
      "\u001b[1;31m---------------------------------------------------------------------------\u001b[0m",
      "\u001b[1;31mValueError\u001b[0m                                Traceback (most recent call last)",
      "Cell \u001b[1;32mIn[12], line 25\u001b[0m\n\u001b[0;32m     15\u001b[0m \u001b[38;5;28;01mfor\u001b[39;00m model_name, model \u001b[38;5;129;01min\u001b[39;00m models\u001b[38;5;241m.\u001b[39mitems():\n\u001b[0;32m     16\u001b[0m     forecaster \u001b[38;5;241m=\u001b[39m ForecasterRecursive(\n\u001b[0;32m     17\u001b[0m         regressor\u001b[38;5;241m=\u001b[39mmodel,\n\u001b[0;32m     18\u001b[0m         \u001b[38;5;66;03m# steps=TEST_SIZE,\u001b[39;00m\n\u001b[1;32m   (...)\u001b[0m\n\u001b[0;32m     22\u001b[0m         transformer_exog\u001b[38;5;241m=\u001b[39mStandardScaler()\n\u001b[0;32m     23\u001b[0m     )\n\u001b[1;32m---> 25\u001b[0m     forecaster\u001b[38;5;241m.\u001b[39mfit(\n\u001b[0;32m     26\u001b[0m         y\u001b[38;5;241m=\u001b[39mtrain_set[\u001b[38;5;124m\"\u001b[39m\u001b[38;5;124mquantity\u001b[39m\u001b[38;5;124m\"\u001b[39m],\n\u001b[0;32m     27\u001b[0m         exog\u001b[38;5;241m=\u001b[39mtrain_set[[\u001b[38;5;124m\"\u001b[39m\u001b[38;5;124myear\u001b[39m\u001b[38;5;124m\"\u001b[39m, \u001b[38;5;124m\"\u001b[39m\u001b[38;5;124mmonth\u001b[39m\u001b[38;5;124m\"\u001b[39m, \u001b[38;5;124m\"\u001b[39m\u001b[38;5;124mquarter\u001b[39m\u001b[38;5;124m\"\u001b[39m]],\n\u001b[0;32m     28\u001b[0m     )\n\u001b[0;32m     30\u001b[0m     predictions \u001b[38;5;241m=\u001b[39m forecaster\u001b[38;5;241m.\u001b[39mpredict(\n\u001b[0;32m     31\u001b[0m         exog\u001b[38;5;241m=\u001b[39mtest_set[[\u001b[38;5;124m\"\u001b[39m\u001b[38;5;124myear\u001b[39m\u001b[38;5;124m\"\u001b[39m, \u001b[38;5;124m\"\u001b[39m\u001b[38;5;124mmonth\u001b[39m\u001b[38;5;124m\"\u001b[39m, \u001b[38;5;124m\"\u001b[39m\u001b[38;5;124mquarter\u001b[39m\u001b[38;5;124m\"\u001b[39m]],\n\u001b[0;32m     32\u001b[0m         steps\u001b[38;5;241m=\u001b[39mTEST_SIZE)\n\u001b[0;32m     34\u001b[0m     prediction_std \u001b[38;5;241m=\u001b[39m np\u001b[38;5;241m.\u001b[39mstd(predictions)\n",
      "File \u001b[1;32mc:\\Users\\Haja\\anaconda3\\Lib\\site-packages\\skforecast\\recursive\\_forecaster_recursive.py:975\u001b[0m, in \u001b[0;36mForecasterRecursive.fit\u001b[1;34m(self, y, exog, store_last_window, store_in_sample_residuals, random_state)\u001b[0m\n\u001b[0;32m    964\u001b[0m \u001b[38;5;28mself\u001b[39m\u001b[38;5;241m.\u001b[39mis_fitted                          \u001b[38;5;241m=\u001b[39m \u001b[38;5;28;01mFalse\u001b[39;00m\n\u001b[0;32m    965\u001b[0m \u001b[38;5;28mself\u001b[39m\u001b[38;5;241m.\u001b[39mfit_date                           \u001b[38;5;241m=\u001b[39m \u001b[38;5;28;01mNone\u001b[39;00m\n\u001b[0;32m    967\u001b[0m (\n\u001b[0;32m    968\u001b[0m     X_train,\n\u001b[0;32m    969\u001b[0m     y_train,\n\u001b[0;32m    970\u001b[0m     exog_names_in_,\n\u001b[0;32m    971\u001b[0m     X_train_window_features_names_out_,\n\u001b[0;32m    972\u001b[0m     X_train_exog_names_out_,\n\u001b[0;32m    973\u001b[0m     X_train_features_names_out_,\n\u001b[0;32m    974\u001b[0m     exog_dtypes_in_\n\u001b[1;32m--> 975\u001b[0m ) \u001b[38;5;241m=\u001b[39m \u001b[38;5;28mself\u001b[39m\u001b[38;5;241m.\u001b[39m_create_train_X_y(y\u001b[38;5;241m=\u001b[39my, exog\u001b[38;5;241m=\u001b[39mexog)\n\u001b[0;32m    976\u001b[0m sample_weight \u001b[38;5;241m=\u001b[39m \u001b[38;5;28mself\u001b[39m\u001b[38;5;241m.\u001b[39mcreate_sample_weights(X_train\u001b[38;5;241m=\u001b[39mX_train)\n\u001b[0;32m    978\u001b[0m \u001b[38;5;28;01mif\u001b[39;00m sample_weight \u001b[38;5;129;01mis\u001b[39;00m \u001b[38;5;129;01mnot\u001b[39;00m \u001b[38;5;28;01mNone\u001b[39;00m:\n",
      "File \u001b[1;32mc:\\Users\\Haja\\anaconda3\\Lib\\site-packages\\skforecast\\recursive\\_forecaster_recursive.py:634\u001b[0m, in \u001b[0;36mForecasterRecursive._create_train_X_y\u001b[1;34m(self, y, exog)\u001b[0m\n\u001b[0;32m    631\u001b[0m y \u001b[38;5;241m=\u001b[39m input_to_frame(data\u001b[38;5;241m=\u001b[39my, input_name\u001b[38;5;241m=\u001b[39m\u001b[38;5;124m'\u001b[39m\u001b[38;5;124my\u001b[39m\u001b[38;5;124m'\u001b[39m)\n\u001b[0;32m    633\u001b[0m \u001b[38;5;28;01mif\u001b[39;00m \u001b[38;5;28mlen\u001b[39m(y) \u001b[38;5;241m<\u001b[39m\u001b[38;5;241m=\u001b[39m \u001b[38;5;28mself\u001b[39m\u001b[38;5;241m.\u001b[39mwindow_size:\n\u001b[1;32m--> 634\u001b[0m     \u001b[38;5;28;01mraise\u001b[39;00m \u001b[38;5;167;01mValueError\u001b[39;00m(\n\u001b[0;32m    635\u001b[0m         \u001b[38;5;124mf\u001b[39m\u001b[38;5;124m\"\u001b[39m\u001b[38;5;124mLength of `y` must be greater than the maximum window size \u001b[39m\u001b[38;5;124m\"\u001b[39m\n\u001b[0;32m    636\u001b[0m         \u001b[38;5;124mf\u001b[39m\u001b[38;5;124m\"\u001b[39m\u001b[38;5;124mneeded by the forecaster.\u001b[39m\u001b[38;5;130;01m\\n\u001b[39;00m\u001b[38;5;124m\"\u001b[39m\n\u001b[0;32m    637\u001b[0m         \u001b[38;5;124mf\u001b[39m\u001b[38;5;124m\"\u001b[39m\u001b[38;5;124m    Length `y`: \u001b[39m\u001b[38;5;132;01m{\u001b[39;00m\u001b[38;5;28mlen\u001b[39m(y)\u001b[38;5;132;01m}\u001b[39;00m\u001b[38;5;124m.\u001b[39m\u001b[38;5;130;01m\\n\u001b[39;00m\u001b[38;5;124m\"\u001b[39m\n\u001b[0;32m    638\u001b[0m         \u001b[38;5;124mf\u001b[39m\u001b[38;5;124m\"\u001b[39m\u001b[38;5;124m    Max window size: \u001b[39m\u001b[38;5;132;01m{\u001b[39;00m\u001b[38;5;28mself\u001b[39m\u001b[38;5;241m.\u001b[39mwindow_size\u001b[38;5;132;01m}\u001b[39;00m\u001b[38;5;124m.\u001b[39m\u001b[38;5;130;01m\\n\u001b[39;00m\u001b[38;5;124m\"\u001b[39m\n\u001b[0;32m    639\u001b[0m         \u001b[38;5;124mf\u001b[39m\u001b[38;5;124m\"\u001b[39m\u001b[38;5;124m    Lags window size: \u001b[39m\u001b[38;5;132;01m{\u001b[39;00m\u001b[38;5;28mself\u001b[39m\u001b[38;5;241m.\u001b[39mmax_lag\u001b[38;5;132;01m}\u001b[39;00m\u001b[38;5;124m.\u001b[39m\u001b[38;5;130;01m\\n\u001b[39;00m\u001b[38;5;124m\"\u001b[39m\n\u001b[0;32m    640\u001b[0m         \u001b[38;5;124mf\u001b[39m\u001b[38;5;124m\"\u001b[39m\u001b[38;5;124m    Window features window size: \u001b[39m\u001b[38;5;132;01m{\u001b[39;00m\u001b[38;5;28mself\u001b[39m\u001b[38;5;241m.\u001b[39mmax_size_window_features\u001b[38;5;132;01m}\u001b[39;00m\u001b[38;5;124m.\u001b[39m\u001b[38;5;124m\"\u001b[39m\n\u001b[0;32m    641\u001b[0m     )\n\u001b[0;32m    643\u001b[0m fit_transformer \u001b[38;5;241m=\u001b[39m \u001b[38;5;28;01mFalse\u001b[39;00m \u001b[38;5;28;01mif\u001b[39;00m \u001b[38;5;28mself\u001b[39m\u001b[38;5;241m.\u001b[39mis_fitted \u001b[38;5;28;01melse\u001b[39;00m \u001b[38;5;28;01mTrue\u001b[39;00m\n\u001b[0;32m    644\u001b[0m y \u001b[38;5;241m=\u001b[39m transform_dataframe(\n\u001b[0;32m    645\u001b[0m         df                \u001b[38;5;241m=\u001b[39m y, \n\u001b[0;32m    646\u001b[0m         transformer       \u001b[38;5;241m=\u001b[39m \u001b[38;5;28mself\u001b[39m\u001b[38;5;241m.\u001b[39mtransformer_y,\n\u001b[0;32m    647\u001b[0m         fit               \u001b[38;5;241m=\u001b[39m fit_transformer,\n\u001b[0;32m    648\u001b[0m         inverse_transform \u001b[38;5;241m=\u001b[39m \u001b[38;5;28;01mFalse\u001b[39;00m,\n\u001b[0;32m    649\u001b[0m     )\n",
      "\u001b[1;31mValueError\u001b[0m: Length of `y` must be greater than the maximum window size needed by the forecaster.\n    Length `y`: 0.\n    Max window size: 6.\n    Lags window size: 6.\n    Window features window size: 4."
     ]
    }
   ],
   "source": [
    "for index,product in enumerate(products):\n",
    "    print(f\"Product {index}/{len(products)}\")\n",
    "    for store in stores:\n",
    "        df = data[(data[\"product_name\"] == product) & (data[\"type_movement\"] == store)]\n",
    "        df = df.resample(\"W\").sum().drop(columns=[\"product_name\", \"type_movement\"])\n",
    "\n",
    "        df['year'] = df.index.year\n",
    "        df['month'] = df.index.month\n",
    "        df['quarter'] = df.index.quarter\n",
    "        df = df[[\"quantity\", \"year\", \"month\", \"quarter\"]]\n",
    "        print(df.shape)\n",
    "        train_set = df[:-TEST_SIZE]\n",
    "        test_set = df[-TEST_SIZE:]\n",
    "        print(train_set)\n",
    "        for model_name, model in models.items():\n",
    "            forecaster = ForecasterRecursive(\n",
    "                regressor=model,\n",
    "                # steps=TEST_SIZE,\n",
    "                lags=LAG_SIZE,\n",
    "                window_features=RollingFeatures(stats=['mean'], window_sizes=WINDOW_SIZE),\n",
    "                transformer_y=StandardScaler(),\n",
    "                transformer_exog=StandardScaler()\n",
    "            )\n",
    "\n",
    "            forecaster.fit(\n",
    "                y=train_set[\"quantity\"],\n",
    "                exog=train_set[[\"year\", \"month\", \"quarter\"]],\n",
    "            )\n",
    "\n",
    "            predictions = forecaster.predict(\n",
    "                exog=test_set[[\"year\", \"month\", \"quarter\"]],\n",
    "                steps=TEST_SIZE)\n",
    "\n",
    "            prediction_std = np.std(predictions)\n",
    "            lower_bound = predictions - 1.96 * prediction_std\n",
    "            upper_bound = predictions + 1.96 * prediction_std\n",
    "\n",
    "            # set_dark_theme()\n",
    "            # fig, ax = plt.subplots(figsize=(15, 5))\n",
    "\n",
    "            # test_set[\"sales\"].plot(ax=ax, label='Test')\n",
    "            # predictions.plot(ax=ax, label='Predictions')\n",
    "            # ax.fill_between(predictions.index, lower_bound, upper_bound, color='gray', alpha=0.2, label='IC 95%')\n",
    "            # ax.set_title(f\"{model_name} - Product {product}, Store {store}\", fontsize=14)\n",
    "            # ax.legend()\n",
    "\n",
    "            # plt.savefig(f\"Forecast_{model_name}_Product-{product}_Store-{store}.png\", dpi=300)\n",
    "            # plt.close()\n",
    "\n",
    "            # Calculer les métriques\n",
    "            rmse = np.round(np.sqrt(mean_squared_error(test_set[\"quantity\"], np.round(predictions))), 0)\n",
    "            mae = np.round(mean_absolute_error(test_set[\"quantity\"], np.round(predictions)), 0)\n",
    "            mape = mean_absolute_percentage_error(test_set[\"quantity\"], np.round(predictions))\n",
    "            \n",
    "            # Stocker les métriques dans la variable performance\n",
    "            performance[model_name][\"rmse\"].append(rmse)\n",
    "            performance[model_name][\"mae\"].append(mae)\n",
    "            performance[model_name][\"mape\"].append(mape)\n"
   ]
  },
  {
   "cell_type": "code",
   "execution_count": null,
   "metadata": {},
   "outputs": [],
   "source": [
    "# Créer un DataFrame pour les métriques moyennes\n",
    "metrics_df = pd.DataFrame({\n",
    "    \"Model\": list(performance.keys()),\n",
    "    \"RMSE_Mean\": [np.mean(performance[model][\"rmse\"]) for model in performance],\n",
    "    \"MAE_Mean\": [np.mean(performance[model][\"mae\"]) for model in performance],\n",
    "    \"MAPE_Mean (en %)\": [np.mean(performance[model][\"mape\"])*100 for model in performance]\n",
    "})\n",
    "# On affiche les resultats moyenne des erreurs\n",
    "print(metrics_df)\n",
    "\n",
    "# Calculer un score global basé sur une combinaison pondérée des métriques\n",
    "metrics_df[\"Score\"] = (\n",
    "    0.5 * metrics_df[\"RMSE_Mean\"] +\n",
    "    0.3 * metrics_df[\"MAE_Mean\"] +\n",
    "    0.2 * metrics_df[\"MAPE_Mean (en %)\"]\n",
    ")\n",
    "\n",
    "# Identifier le meilleur modèle basé sur le score global\n",
    "best_model_name = metrics_df.loc[metrics_df[\"Score\"].idxmin(), \"Model\"]\n",
    "print(\"\\nMeilleur modèle global basé sur le score pondéré :\", best_model_name)\n",
    "\n",
    "# Charger le modèle sélectionné pour les prédictions futures\n",
    "best_model = models[best_model_name]"
   ]
  }
 ],
 "metadata": {
  "kernelspec": {
   "display_name": "base",
   "language": "python",
   "name": "python3"
  },
  "language_info": {
   "codemirror_mode": {
    "name": "ipython",
    "version": 3
   },
   "file_extension": ".py",
   "mimetype": "text/x-python",
   "name": "python",
   "nbconvert_exporter": "python",
   "pygments_lexer": "ipython3",
   "version": "3.12.7"
  }
 },
 "nbformat": 4,
 "nbformat_minor": 2
}
