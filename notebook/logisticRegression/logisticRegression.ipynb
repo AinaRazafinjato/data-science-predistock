{
 "cells": [
  {
   "cell_type": "code",
   "execution_count": 1,
   "id": "6b511cc4",
   "metadata": {},
   "outputs": [],
   "source": [
    "import numpy as np\n",
    "import pandas as pd\n",
    "import matplotlib.pyplot as plt\n",
    "from  sklearn.metrics import confusion_matrix"
   ]
  },
  {
   "cell_type": "code",
   "execution_count": 2,
   "id": "98de5b24",
   "metadata": {},
   "outputs": [],
   "source": [
    "# Pre-traitement\n",
    "df = pd.read_csv('../../data/raw/mouvements_stock_fictifs.csv')\n",
    "\n",
    "# Filtrer les données pour ne garder que les mouvements de type 'import' et 'export'\n",
    "df = df[df['type_movement'].isin(['import', 'export'])]"
   ]
  },
  {
   "cell_type": "code",
   "execution_count": null,
   "id": "270d40b8",
   "metadata": {},
   "outputs": [],
   "source": []
  }
 ],
 "metadata": {
  "kernelspec": {
   "display_name": ".venv",
   "language": "python",
   "name": "python3"
  },
  "language_info": {
   "codemirror_mode": {
    "name": "ipython",
    "version": 3
   },
   "file_extension": ".py",
   "mimetype": "text/x-python",
   "name": "python",
   "nbconvert_exporter": "python",
   "pygments_lexer": "ipython3",
   "version": "3.13.1"
  }
 },
 "nbformat": 4,
 "nbformat_minor": 5
}
